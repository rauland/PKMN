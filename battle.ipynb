{
 "cells": [
  {
   "cell_type": "code",
   "execution_count": 1,
   "metadata": {},
   "outputs": [],
   "source": [
    "from pkmn import Pokemon\n",
    "from trainer import Trainer"
   ]
  },
  {
   "cell_type": "code",
   "execution_count": 2,
   "metadata": {},
   "outputs": [
    {
     "name": "stdout",
     "output_type": "stream",
     "text": [
      "Pikachu knows the move Tackle which is a Normal type move.\n",
      "Pikachu knows the move Thunderbolt which is a Electric type move.\n"
     ]
    }
   ],
   "source": [
    "Pikachu = Pokemon(\"Pikachu\",\"Electric\", 100)\n",
    "Pikachu.learn_move(\"Thunderbolt\")\n",
    "Pikachu.moveset()\n",
    "Charzard = Pokemon(\"Charzard\",\"Fire\", 135)"
   ]
  },
  {
   "cell_type": "code",
   "execution_count": 3,
   "metadata": {},
   "outputs": [
    {
     "name": "stdout",
     "output_type": "stream",
     "text": [
      "Charzard current health is: 135\n",
      "Pikachu used Tackle! It did 35 damage to Charzard\n",
      "Charzard current health is: 100\n"
     ]
    }
   ],
   "source": [
    "Charzard.status()\n",
    "Pikachu.attack(Charzard)\n",
    "Charzard.status()"
   ]
  },
  {
   "cell_type": "code",
   "execution_count": 4,
   "metadata": {},
   "outputs": [
    {
     "name": "stdout",
     "output_type": "stream",
     "text": [
      "Charzard health restored to max: 135\n"
     ]
    }
   ],
   "source": [
    "Charzard.potion()"
   ]
  },
  {
   "cell_type": "code",
   "execution_count": 5,
   "metadata": {},
   "outputs": [
    {
     "data": {
      "text/plain": [
       "('Tackle', 'Normal', 35)"
      ]
     },
     "execution_count": 5,
     "metadata": {},
     "output_type": "execute_result"
    }
   ],
   "source": [
    "Pikachu.move[0].name, Pikachu.move[0].type, Pikachu.move[0].damage"
   ]
  },
  {
   "cell_type": "code",
   "execution_count": 6,
   "metadata": {},
   "outputs": [
    {
     "name": "stdout",
     "output_type": "stream",
     "text": [
      "Charzard current health is: 135\n",
      "Pikachu used Thunderbolt! It did 50 damage to Charzard\n",
      "Charzard current health is: 85\n"
     ]
    }
   ],
   "source": [
    "Charzard.status()\n",
    "Pikachu.attack(Charzard,1)\n",
    "Charzard.status()"
   ]
  },
  {
   "cell_type": "code",
   "execution_count": 7,
   "metadata": {},
   "outputs": [
    {
     "data": {
      "text/plain": [
       "'Ash'"
      ]
     },
     "execution_count": 7,
     "metadata": {},
     "output_type": "execute_result"
    }
   ],
   "source": [
    "Ash = Trainer(\"Ash\")\n",
    "Ash.name"
   ]
  }
 ],
 "metadata": {
  "kernelspec": {
   "display_name": "Python 3.10.4 64-bit",
   "language": "python",
   "name": "python3"
  },
  "language_info": {
   "codemirror_mode": {
    "name": "ipython",
    "version": 3
   },
   "file_extension": ".py",
   "mimetype": "text/x-python",
   "name": "python",
   "nbconvert_exporter": "python",
   "pygments_lexer": "ipython3",
   "version": "3.10.4"
  },
  "orig_nbformat": 4,
  "vscode": {
   "interpreter": {
    "hash": "9d5dcdc509b2c9533fff0835d9069006780f26fa100dc064f490a6dbae3b8c58"
   }
  }
 },
 "nbformat": 4,
 "nbformat_minor": 2
}
